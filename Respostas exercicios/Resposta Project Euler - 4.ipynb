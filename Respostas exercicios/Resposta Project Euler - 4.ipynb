{
 "cells": [
  {
   "cell_type": "code",
   "execution_count": null,
   "metadata": {},
   "outputs": [],
   "source": [
    "def teste_multiplos(n):\n",
    "    #for div in range(100,999):\n",
    "    div = 100\n",
    "    while div < 1000:\n",
    "        if int(n%div) == 0:\n",
    "            if len(str(int(n/div))) == 3:\n",
    "                   return 1\n",
    "                   break\n",
    "            else:\n",
    "                div = div + 1\n",
    "    return 0"
   ]
  },
  {
   "cell_type": "code",
   "execution_count": null,
   "metadata": {},
   "outputs": [],
   "source": [
    "def teste_palindromo(n):\n",
    "    if str(n) == str(n)[-1::-1]:\n",
    "        return 1\n",
    "    else:\n",
    "        return 0"
   ]
  },
  {
   "cell_type": "code",
   "execution_count": null,
   "metadata": {},
   "outputs": [],
   "source": [
    "a = 0\n",
    "n = 989989\n",
    "\n",
    "def Palindromo(): \n",
    "    b = 0      # auxiliar.\n",
    "    n = 989989 # maior número igual ao seu contrário.\n",
    "    while n > 10000 : # 10000 é o menor produto de dois n°s de 3 algarismos.\n",
    "        if teste_palindromo(n) == 1:\n",
    "            if teste_multiplos(n) == 1:\n",
    "                return print('O maior palíndrome é: ',n)\n",
    "        else:\n",
    "            n = n - 1\n",
    "            \n",
    "            \n",
    "            \n",
    "         \n",
    "        \n",
    "        \n",
    "        \n",
    "        \n",
    "        "
   ]
  },
  {
   "cell_type": "code",
   "execution_count": null,
   "metadata": {},
   "outputs": [],
   "source": [
    "Palindromo()"
   ]
  },
  {
   "cell_type": "code",
   "execution_count": 5,
   "metadata": {},
   "outputs": [
    {
     "data": {
      "text/plain": [
       "'alraT'"
      ]
     },
     "execution_count": 5,
     "metadata": {},
     "output_type": "execute_result"
    }
   ],
   "source": [
    "'Tarla'[-1::-1]"
   ]
  },
  {
   "cell_type": "code",
   "execution_count": null,
   "metadata": {},
   "outputs": [],
   "source": []
  }
 ],
 "metadata": {
  "kernelspec": {
   "display_name": "Python 3",
   "language": "python",
   "name": "python3"
  },
  "language_info": {
   "codemirror_mode": {
    "name": "ipython",
    "version": 3
   },
   "file_extension": ".py",
   "mimetype": "text/x-python",
   "name": "python",
   "nbconvert_exporter": "python",
   "pygments_lexer": "ipython3",
   "version": "3.5.2"
  }
 },
 "nbformat": 4,
 "nbformat_minor": 2
}
