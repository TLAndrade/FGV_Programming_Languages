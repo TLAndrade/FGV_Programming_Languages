{
 "cells": [
  {
   "cell_type": "markdown",
   "metadata": {},
   "source": [
    "### Questão 1"
   ]
  },
  {
   "cell_type": "code",
   "execution_count": 31,
   "metadata": {},
   "outputs": [],
   "source": [
    "lista = [1,2,3,'4',5,6.3,7.4 + 2j,\"123\",[1,2,3], 93, \"98\", (1,2,3)]"
   ]
  },
  {
   "cell_type": "code",
   "execution_count": 32,
   "metadata": {
    "scrolled": false
   },
   "outputs": [],
   "source": [
    "def Sucessor_antecessor(lista):\n",
    "    L = []\n",
    "    for ele in lista:\n",
    "        if type(ele) == int:\n",
    "            L.append(ele-1)\n",
    "            L.append(ele+1)\n",
    "        elif type(ele) == str:\n",
    "            L.append(int(ele)-1)\n",
    "            L.append(int(ele)+1)\n",
    "        elif type(ele) == float:\n",
    "            L.append(int(ele)-1)\n",
    "            L.append(int(ele)+1)\n",
    "        elif type(ele) == complex:\n",
    "            L.append(int(ele.real)-1)\n",
    "            L.append(int(ele.real)+1)\n",
    "            L.append(int(ele.imag) - 1)\n",
    "            L.append(int(ele.imag) + 1)\n",
    "        elif type(ele) == list or type(ele) == tuple:\n",
    "            L.extend( Sucessor_antecessor(ele))\n",
    "    return(L)\n",
    "        \n",
    "        \n",
    "        \n",
    "        #for elementoLista in range(len(ele)):\n",
    "         #   print(int(ele[elementoLista])-1)\n",
    "          #  print(int(ele[elememtoLista])+1)\n",
    "                \n",
    "   \n",
    "\n",
    "            \n",
    "            \n",
    "        "
   ]
  },
  {
   "cell_type": "code",
   "execution_count": 33,
   "metadata": {},
   "outputs": [
    {
     "data": {
      "text/plain": [
       "[0,\n",
       " 2,\n",
       " 1,\n",
       " 3,\n",
       " 2,\n",
       " 4,\n",
       " 3,\n",
       " 5,\n",
       " 4,\n",
       " 6,\n",
       " 5,\n",
       " 7,\n",
       " 6,\n",
       " 8,\n",
       " 1,\n",
       " 3,\n",
       " 122,\n",
       " 124,\n",
       " 0,\n",
       " 2,\n",
       " 1,\n",
       " 3,\n",
       " 2,\n",
       " 4,\n",
       " 92,\n",
       " 94,\n",
       " 97,\n",
       " 99,\n",
       " 0,\n",
       " 2,\n",
       " 1,\n",
       " 3,\n",
       " 2,\n",
       " 4]"
      ]
     },
     "execution_count": 33,
     "metadata": {},
     "output_type": "execute_result"
    }
   ],
   "source": [
    "Sucessor_antecessor(lista)"
   ]
  },
  {
   "cell_type": "markdown",
   "metadata": {},
   "source": [
    "### Questão 2"
   ]
  },
  {
   "cell_type": "code",
   "execution_count": 11,
   "metadata": {},
   "outputs": [],
   "source": [
    "# Dividir o número(n) por n-1 e assim por diante. Quando encontrar um divisor, testa se o divisor é primo."
   ]
  },
  {
   "cell_type": "code",
   "execution_count": 20,
   "metadata": {},
   "outputs": [],
   "source": [
    "a = bool()\n",
    "\n",
    "num_div = 0\n",
    "\n",
    "\n",
    "def Maior_divisor_primo():\n",
    "    m = n\n",
    "    while a == false:\n",
    "        b = bool()\n",
    "        while b == false:\n",
    "            b = (n % (m-1) == 0)\n",
    "            m = m-1\n",
    "        #testar se este divisor é primo:\n",
    "        for ele in range(m):\n",
    "            if m % m-ele == 0:\n",
    "                num_div = num_div + 1\n",
    "        if num_div == 1:\n",
    "            print('Maior divisor primo : '+ str(ele) )\n",
    "            a = 1\n",
    "        \n",
    "        \n",
    "        \n",
    "        \n",
    "                \n",
    "                \n",
    "            "
   ]
  },
  {
   "cell_type": "code",
   "execution_count": 1,
   "metadata": {},
   "outputs": [
    {
     "ename": "NameError",
     "evalue": "name 'Maior_divisor_primo' is not defined",
     "output_type": "error",
     "traceback": [
      "\u001b[0;31m---------------------------------------------------------------------------\u001b[0m",
      "\u001b[0;31mNameError\u001b[0m                                 Traceback (most recent call last)",
      "\u001b[0;32m<ipython-input-1-5c071b68902c>\u001b[0m in \u001b[0;36m<module>\u001b[0;34m()\u001b[0m\n\u001b[0;32m----> 1\u001b[0;31m \u001b[0mMaior_divisor_primo\u001b[0m\u001b[0;34m(\u001b[0m\u001b[0;36m20\u001b[0m\u001b[0;34m)\u001b[0m\u001b[0;34m\u001b[0m\u001b[0m\n\u001b[0m",
      "\u001b[0;31mNameError\u001b[0m: name 'Maior_divisor_primo' is not defined"
     ]
    }
   ],
   "source": [
    "Maior_divisor_primo(20)"
   ]
  },
  {
   "cell_type": "code",
   "execution_count": null,
   "metadata": {},
   "outputs": [],
   "source": [
    "def lista(L,n):\n",
    "    \n",
    "    \n"
   ]
  },
  {
   "cell_type": "code",
   "execution_count": null,
   "metadata": {},
   "outputs": [],
   "source": []
  },
  {
   "cell_type": "code",
   "execution_count": null,
   "metadata": {},
   "outputs": [],
   "source": []
  },
  {
   "cell_type": "code",
   "execution_count": null,
   "metadata": {},
   "outputs": [],
   "source": []
  },
  {
   "cell_type": "markdown",
   "metadata": {},
   "source": [
    "Que"
   ]
  }
 ],
 "metadata": {
  "kernelspec": {
   "display_name": "Python 3",
   "language": "python",
   "name": "python3"
  },
  "language_info": {
   "codemirror_mode": {
    "name": "ipython",
    "version": 3
   },
   "file_extension": ".py",
   "mimetype": "text/x-python",
   "name": "python",
   "nbconvert_exporter": "python",
   "pygments_lexer": "ipython3",
   "version": "3.5.2"
  }
 },
 "nbformat": 4,
 "nbformat_minor": 2
}
