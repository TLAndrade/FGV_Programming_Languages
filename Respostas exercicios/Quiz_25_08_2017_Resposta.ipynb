{
 "cells": [
  {
   "cell_type": "markdown",
   "metadata": {},
   "source": [
    "### Questão 1"
   ]
  },
  {
   "cell_type": "code",
   "execution_count": 2,
   "metadata": {},
   "outputs": [],
   "source": [
    "def suc_Ant(lista):\n",
    "    L=[]\n",
    "    for x in lista:\n",
    "        if type(x) == int:\n",
    "            L.append(x-1)\n",
    "            L.append(x+1)\n",
    "        elif type(x) == str:\n",
    "            L.append(int(x)-1)\n",
    "            L.append(int(x)+1)\n",
    "        elif type(x) == float:\n",
    "            L.append(int(x)-1)\n",
    "            L.append(int(x)+1)\n",
    "        elif type(x) == complex:\n",
    "            L.append(int(x.real)-1)\n",
    "            L.append(int(x.real)+1)\n",
    "            L.append(int(x.imag)-1)\n",
    "            L.append(int(x.imag)+1)\n",
    "        elif type(x) == list or type(x) == tuple or type(x) == set:\n",
    "            suc_Ant(x)\n",
    "        else:\n",
    "            print('O elemento {} : {} não se enquadra nas condições'.format(lista.index(x),x))\n",
    "            \n",
    "            \n",
    "            \n",
    "            \n",
    "            "
   ]
  },
  {
   "cell_type": "markdown",
   "metadata": {},
   "source": [
    "### Questão 2"
   ]
  },
  {
   "cell_type": "code",
   "execution_count": 83,
   "metadata": {},
   "outputs": [],
   "source": [
    "def por_extenso(a):\n",
    "    U = ''\n",
    "    D = ''\n",
    "    C = ''\n",
    "    x = str(a)[-1::-1]\n",
    "    unidade = ['','um','dois','três','quatro','cinco','seis','sete','oito','nove']\n",
    "    dezena = ['vinte','trinta','quarenta','cinquenta','sessenta','setenta','oitenta','noventa']\n",
    "    centena = ['cento','duzentos','trezentos','quatrocentos','quinhentos','seiscentos','setecentos','oitocentos','novecentos']\n",
    "    dez = ['dez','onze','doze','treze','quatorze','quinze','dezesseis','dezessete','dezoito','dezenove']\n",
    "    if a > 1000:\n",
    "        print('input limited in 1000')\n",
    "    elif a == 1000:\n",
    "        print('mil')\n",
    "    elif a == 100:\n",
    "        print('cem')\n",
    "    elif x[1] == '1':\n",
    "        D = dez[int(x[0])]\n",
    "    else:\n",
    "        U = unidade[int(x[0])]\n",
    "        if len(x) > 1 and x[1] != '0':\n",
    "            D = dezena[int(x[1])-2]\n",
    "            if x[0] != '0':\n",
    "                D = D + ' e '\n",
    "            if len(x) == 3:\n",
    "                D = ' e '+ D                \n",
    "                C = centena[int(x[2])-1] \n",
    "    print(C+D+U)\n",
    "    \n",
    "    \n",
    "        \n",
    "        "
   ]
  },
  {
   "cell_type": "code",
   "execution_count": 85,
   "metadata": {},
   "outputs": [
    {
     "name": "stdout",
     "output_type": "stream",
     "text": [
      "cento e oitenta e nove\n"
     ]
    }
   ],
   "source": [
    "por_extenso(189)"
   ]
  },
  {
   "cell_type": "markdown",
   "metadata": {},
   "source": [
    "### Questão 3"
   ]
  },
  {
   "cell_type": "code",
   "execution_count": null,
   "metadata": {},
   "outputs": [],
   "source": [
    "import string\n",
    "def call_me_maybe(x): \n",
    "    L = ''\n",
    "    Lista8 = 'ABCDEFGHIJKLMNOPQRSTUVWXY'\n",
    "    for elem in x:\n",
    "        elem = str(elem)\n",
    "        if elem == 'Z':\n",
    "            L += '9'\n",
    "        elif elem == '1' or elem == '0':\n",
    "            L += elem\n",
    "        elif elem in string.punctuation:\n",
    "            L += '-'\n",
    "        else:\n",
    "            if (Lista8.find(elem)+1)%3 == 0:\n",
    "                L += str(int((Lista8.find(elem)+1)/3) + 1)\n",
    "            else:\n",
    "                L += str(int((Lista8.find(elem)+1)/3) + 2)\n",
    "    return L\n",
    "        \n",
    "        \n",
    "        "
   ]
  },
  {
   "cell_type": "markdown",
   "metadata": {},
   "source": [
    "### Questão 4"
   ]
  },
  {
   "cell_type": "code",
   "execution_count": 33,
   "metadata": {},
   "outputs": [],
   "source": [
    "aux = 0\n",
    "aux0 = 0\n",
    "L = []\n",
    "k=0\n",
    "\n",
    "texto = 'Tarla Lemos de Andrade'\n",
    "\n",
    "import string\n",
    "def cade_letra(o):\n",
    "    x = str(o)\n",
    "    posicao = texto.find(x)\n",
    "    while k == 0:\n",
    "        direita = posicao\n",
    "        esquerda = posicao\n",
    "        while aux == 0 and aux2 == 0:\n",
    "            if posicao != 0: # posição do início da palavra.\n",
    "                if x[direita-1] == '' or x[direita-1] in string.punctuation:\n",
    "                    aux = 1\n",
    "            else:\n",
    "                direita -= 1\n",
    "            if posicao != len(x)-1: # posição do fim da palavra.\n",
    "                if x[esquerda+1] == '' or x[esquerda+1] == string.punctuation:\n",
    "                    aux2 = 1\n",
    "        L.append(x[direita:esquerda])\n",
    "        posicao = texto[esquerda:].find(x) + esquerda\n",
    "        if esquerda+1 == len(texto):\n",
    "            k = 1\n",
    "        \n",
    "    \n",
    "    \n",
    "    \n",
    "            \n",
    "        \n",
    "        \n",
    "    "
   ]
  },
  {
   "cell_type": "code",
   "execution_count": 34,
   "metadata": {},
   "outputs": [
    {
     "ename": "NameError",
     "evalue": "name 'a' is not defined",
     "output_type": "error",
     "traceback": [
      "\u001b[0;31m---------------------------------------------------------------------------\u001b[0m",
      "\u001b[0;31mNameError\u001b[0m                                 Traceback (most recent call last)",
      "\u001b[0;32m<ipython-input-34-a6487c367355>\u001b[0m in \u001b[0;36m<module>\u001b[0;34m()\u001b[0m\n\u001b[0;32m----> 1\u001b[0;31m \u001b[0mcade_letra\u001b[0m\u001b[0;34m(\u001b[0m\u001b[0ma\u001b[0m\u001b[0;34m)\u001b[0m\u001b[0;34m\u001b[0m\u001b[0m\n\u001b[0m",
      "\u001b[0;31mNameError\u001b[0m: name 'a' is not defined"
     ]
    }
   ],
   "source": [
    "cade_letra(a)"
   ]
  },
  {
   "cell_type": "code",
   "execution_count": 27,
   "metadata": {},
   "outputs": [
    {
     "name": "stdout",
     "output_type": "stream",
     "text": [
      "21\n",
      "22\n"
     ]
    }
   ],
   "source": [
    "T = 'Tarla Limos di Andrade'\n",
    "print(T.find('e'))\n",
    "print(len(T))"
   ]
  },
  {
   "cell_type": "code",
   "execution_count": 20,
   "metadata": {},
   "outputs": [
    {
     "data": {
      "text/plain": [
       "4"
      ]
     },
     "execution_count": 20,
     "metadata": {},
     "output_type": "execute_result"
    }
   ],
   "source": [
    "T[2:].find('a')+2\n"
   ]
  },
  {
   "cell_type": "code",
   "execution_count": 21,
   "metadata": {},
   "outputs": [
    {
     "data": {
      "text/plain": [
       "'a Lemos de Andrade'"
      ]
     },
     "execution_count": 21,
     "metadata": {},
     "output_type": "execute_result"
    }
   ],
   "source": [
    "T[4:]"
   ]
  },
  {
   "cell_type": "code",
   "execution_count": null,
   "metadata": {},
   "outputs": [],
   "source": []
  }
 ],
 "metadata": {
  "kernelspec": {
   "display_name": "Python 3",
   "language": "python",
   "name": "python3"
  },
  "language_info": {
   "codemirror_mode": {
    "name": "ipython",
    "version": 3
   },
   "file_extension": ".py",
   "mimetype": "text/x-python",
   "name": "python",
   "nbconvert_exporter": "python",
   "pygments_lexer": "ipython3",
   "version": "3.5.2"
  }
 },
 "nbformat": 4,
 "nbformat_minor": 2
}
