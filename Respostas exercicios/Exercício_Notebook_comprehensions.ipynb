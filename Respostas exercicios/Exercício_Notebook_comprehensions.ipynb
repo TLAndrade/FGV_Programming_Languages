{
 "cells": [
  {
   "cell_type": "markdown",
   "metadata": {},
   "source": [
    "## Retorna um dicionário com a chave igual às palavras e quantas vezes elas repetem.\n",
    "## Listar os nomes próprios."
   ]
  },
  {
   "cell_type": "markdown",
   "metadata": {},
   "source": [
    "#### Fazer limpeza dos sinais:"
   ]
  },
  {
   "cell_type": "code",
   "execution_count": 43,
   "metadata": {},
   "outputs": [
    {
     "data": {
      "text/plain": [
       "'Com base no seu excelente desempenho escolar foi-lhe atribuída uma bolsa para a Universidade Estatal em Kumbakonam. No entanto, no ano seguinte, a bolsa não foi renovada porque Ramanujan dedicava cada vez mais tempo à matemática e descurava as restantes disciplinas. Nesta altura, Ramanujan dedicava-se às séries hiper geométricas e às relações entre integrais e séries. Mais tarde, descobriu que tinha estado a estudar as chamadas funções elípticas. Em 1906, foi para Madras onde ingressou na Universidade de Pachayappa. O seu objectivo era passar o First Arts Examination o que lhe permitiria entrar para a Universidade de Madras. Frequentou as aulas mas adoeceu ao fim de três meses. Mais tarde, fez de facto o First Arts Examination tendo sido aprovado a matemática mas reprovado em todas as outras disciplinas e, deste modo, reprovado no exame. Este facto determinou o seu não ingresso na Universidade de Madras.'"
      ]
     },
     "execution_count": 43,
     "metadata": {},
     "output_type": "execute_result"
    }
   ],
   "source": [
    "texto = 'Com base no seu excelente desempenho escolar foi-lhe atribuída uma bolsa para a Universidade Estatal em Kumbakonam. No entanto, no ano seguinte, a bolsa não foi renovada porque Ramanujan dedicava cada vez mais tempo à matemática e descurava as restantes disciplinas. Nesta altura, Ramanujan dedicava-se às séries hiper geométricas e às relações entre integrais e séries. Mais tarde, descobriu que tinha estado a estudar as chamadas funções elípticas. Em 1906, foi para Madras onde ingressou na Universidade de Pachayappa. O seu objectivo era passar o First Arts Examination o que lhe permitiria entrar para a Universidade de Madras. Frequentou as aulas mas adoeceu ao fim de três meses. Mais tarde, fez de facto o First Arts Examination tendo sido aprovado a matemática mas reprovado em todas as outras disciplinas e, deste modo, reprovado no exame. Este facto determinou o seu não ingresso na Universidade de Madras.'\n",
    "texto"
   ]
  },
  {
   "cell_type": "code",
   "execution_count": 44,
   "metadata": {},
   "outputs": [],
   "source": [
    "# Primeiro: Fazer limpeza do texto:\n",
    "import string"
   ]
  },
  {
   "cell_type": "code",
   "execution_count": 46,
   "metadata": {},
   "outputs": [],
   "source": [
    "texto_sem_sinal = texto\n",
    "for sinais in string.punctuation:\n",
    "    texto_sem_sinal = texto_sem_sinal.replace(sinais,\"\")\n",
    "\n"
   ]
  },
  {
   "cell_type": "code",
   "execution_count": 41,
   "metadata": {},
   "outputs": [],
   "source": [
    "# Retirar letras maiúsculas:\n",
    "texto_sem_sinal = texto_sem_sinal.lower()\n"
   ]
  },
  {
   "cell_type": "markdown",
   "metadata": {},
   "source": [
    "#### Transformar texto em lista:"
   ]
  },
  {
   "cell_type": "code",
   "execution_count": 42,
   "metadata": {},
   "outputs": [],
   "source": [
    "L0 =[lista for lista in texto_sem_sinal.split()]\n"
   ]
  },
  {
   "cell_type": "markdown",
   "metadata": {},
   "source": [
    "#### Contar as palavras e tranformar em dicionário:"
   ]
  },
  {
   "cell_type": "code",
   "execution_count": 34,
   "metadata": {},
   "outputs": [],
   "source": [
    "# eliminando as repeticões:\n",
    "L1 = set(L0)"
   ]
  },
  {
   "cell_type": "code",
   "execution_count": 40,
   "metadata": {},
   "outputs": [],
   "source": [
    "#Formando o dicionário:\n",
    "Qtd = {x:texto_sem_sinal.count(x) for x in L1}\n"
   ]
  },
  {
   "cell_type": "markdown",
   "metadata": {},
   "source": [
    "#### Identificar nomes próprios:"
   ]
  },
  {
   "cell_type": "code",
   "execution_count": 49,
   "metadata": {},
   "outputs": [
    {
     "data": {
      "text/plain": [
       "['Com',\n",
       " 'Universidade',\n",
       " 'Estatal',\n",
       " 'Kumbakonam.',\n",
       " 'No',\n",
       " 'Ramanujan',\n",
       " 'Nesta',\n",
       " 'Ramanujan',\n",
       " 'Mais',\n",
       " 'Em',\n",
       " 'Madras',\n",
       " 'Universidade',\n",
       " 'Pachayappa.',\n",
       " 'O',\n",
       " 'First',\n",
       " 'Arts',\n",
       " 'Examination',\n",
       " 'Universidade',\n",
       " 'Madras.',\n",
       " 'Frequentou',\n",
       " 'Mais',\n",
       " 'First',\n",
       " 'Arts',\n",
       " 'Examination',\n",
       " 'Este',\n",
       " 'Universidade',\n",
       " 'Madras.']"
      ]
     },
     "execution_count": 49,
     "metadata": {},
     "output_type": "execute_result"
    }
   ],
   "source": [
    "lista_maiusculas = [x for x in texto.split() if x.istitle()]\n",
    "lista_maiusculas"
   ]
  },
  {
   "cell_type": "code",
   "execution_count": null,
   "metadata": {},
   "outputs": [],
   "source": [
    "# Elimina palavras no início de frase:\n",
    "for x in lista_maiusculas:\n",
    "    find(x)"
   ]
  }
 ],
 "metadata": {
  "kernelspec": {
   "display_name": "Python 3",
   "language": "python",
   "name": "python3"
  },
  "language_info": {
   "codemirror_mode": {
    "name": "ipython",
    "version": 3
   },
   "file_extension": ".py",
   "mimetype": "text/x-python",
   "name": "python",
   "nbconvert_exporter": "python",
   "pygments_lexer": "ipython3",
   "version": "3.5.2"
  }
 },
 "nbformat": 4,
 "nbformat_minor": 2
}
