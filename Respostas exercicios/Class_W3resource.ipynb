{
 "cells": [
  {
   "cell_type": "markdown",
   "metadata": {},
   "source": [
    "## Site : [w3resource](https://www.w3resource.com/python-exercises/class-exercises/)"
   ]
  },
  {
   "cell_type": "markdown",
   "metadata": {},
   "source": [
    "1. Write a Python class to convert an integer to a roman numeral."
   ]
  },
  {
   "cell_type": "code",
   "execution_count": 17,
   "metadata": {},
   "outputs": [],
   "source": [
    "class roman():\n",
    "    def _init_(self, inteiro):\n",
    "        self.inteiro = str(inteiro)\n",
    "        self.romano = 0\n",
    "        def unidade():\n",
    "            if self.inteiro[-1] == 1:\n",
    "                return 'I'\n",
    "            elif self.inteiro[-1] ==2:\n",
    "                return 'II'\n",
    "            elif self.inteiro[-1] == 3:\n",
    "                return 'III'\n",
    "            elif self.inteiro[-1] ==4:\n",
    "                return 'IV'\n",
    "            elif self.inteiro[-1] ==5:\n",
    "                return 'V'\n",
    "            elif self.inteiro[-1] ==6:\n",
    "                return 'VI' \n",
    "            elif self.inteiro[-1] ==7:\n",
    "                return 'VII'\n",
    "            elif self.inteiro[-1]==8:\n",
    "                return 'VIII'\n",
    "            else:\n",
    "                return 'IX'\n",
    "        \n",
    "        def dezena():\n",
    "            if self.inteiro[-2] == 1:\n",
    "                return 'X'\n",
    "            elif self.inteiro[-2] ==2:\n",
    "                return 'XX'\n",
    "            elif self.inteiro[-2] == 3:\n",
    "                return 'XXX'\n",
    "            elif self.inteiro[-2] ==4:\n",
    "                return 'XL'\n",
    "            elif self.inteiro[-2] == 5:\n",
    "                return 'L'\n",
    "            elif self.inteiro[-2] == 6:\n",
    "                return 'LX'\n",
    "            elif self.inteiro[-2] == 7:\n",
    "                return 'LXX'\n",
    "            elif self.inteiro[-2] == 8:\n",
    "                return 'LXXX'\n",
    "            elif self.inteiro[-2] == 9:\n",
    "                return 'XC'\n",
    "        \n",
    "        \n",
    "            if len(inteiro) < 2:\n",
    "                self.romano = unidade()\n",
    "            elif len(inteiro) ==2:\n",
    "                self.romano = dezena()+unidade()\n",
    "            elif inteiro == 100:\n",
    "                self.romano = 'C'\n",
    "        \n",
    "        \n",
    "        "
   ]
  },
  {
   "cell_type": "code",
   "execution_count": 19,
   "metadata": {},
   "outputs": [],
   "source": [
    "MyNum = roman"
   ]
  },
  {
   "cell_type": "code",
   "execution_count": 22,
   "metadata": {},
   "outputs": [
    {
     "ename": "AttributeError",
     "evalue": "type object 'roman' has no attribute 'inteiro'",
     "output_type": "error",
     "traceback": [
      "\u001b[0;31m---------------------------------------------------------------------------\u001b[0m",
      "\u001b[0;31mAttributeError\u001b[0m                            Traceback (most recent call last)",
      "\u001b[0;32m<ipython-input-22-26d256df9ec0>\u001b[0m in \u001b[0;36m<module>\u001b[0;34m()\u001b[0m\n\u001b[0;32m----> 1\u001b[0;31m \u001b[0mMyNum\u001b[0m\u001b[0;34m.\u001b[0m\u001b[0minteiro\u001b[0m\u001b[0;34m(\u001b[0m\u001b[0;36m5\u001b[0m\u001b[0;34m)\u001b[0m\u001b[0;34m\u001b[0m\u001b[0m\n\u001b[0m",
      "\u001b[0;31mAttributeError\u001b[0m: type object 'roman' has no attribute 'inteiro'"
     ]
    }
   ],
   "source": [
    "MyNum.inteiro(5)"
   ]
  },
  {
   "cell_type": "code",
   "execution_count": 23,
   "metadata": {},
   "outputs": [
    {
     "name": "stdout",
     "output_type": "stream",
     "text": [
      "I\n",
      "MMMM\n"
     ]
    }
   ],
   "source": [
    "class py_solution:\n",
    "    def int_to_Roman(self, num):\n",
    "        val = [\n",
    "            1000, 900, 500, 400,\n",
    "            100, 90, 50, 40,\n",
    "            10, 9, 5, 4,\n",
    "            1\n",
    "            ]\n",
    "        syb = [\n",
    "            \"M\", \"CM\", \"D\", \"CD\",\n",
    "            \"C\", \"XC\", \"L\", \"XL\",\n",
    "            \"X\", \"IX\", \"V\", \"IV\",\n",
    "            \"I\"\n",
    "            ]\n",
    "        roman_num = ''\n",
    "        i = 0\n",
    "        while  num > 0:\n",
    "            for _ in range(num // val[i]):\n",
    "                roman_num += syb[i]\n",
    "                num -= val[i]\n",
    "            i += 1\n",
    "        return roman_num\n",
    "\n",
    "\n",
    "print(py_solution().int_to_Roman(1))\n",
    "print(py_solution().int_to_Roman(4000))\n"
   ]
  },
  {
   "cell_type": "code",
   "execution_count": 28,
   "metadata": {},
   "outputs": [
    {
     "data": {
      "text/plain": [
       "'XXII'"
      ]
     },
     "execution_count": 28,
     "metadata": {},
     "output_type": "execute_result"
    }
   ],
   "source": [
    "py_solution().int_to_Roman(22)"
   ]
  },
  {
   "cell_type": "code",
   "execution_count": 30,
   "metadata": {},
   "outputs": [],
   "source": [
    "for x in range(22//1000): # // division rounding to floor.\n",
    "    print(x)"
   ]
  },
  {
   "cell_type": "markdown",
   "metadata": {},
   "source": [
    "2. Write a Python class to convert a roman numeral to an integer."
   ]
  },
  {
   "cell_type": "code",
   "execution_count": null,
   "metadata": {},
   "outputs": [],
   "source": [
    "class roman_to_integer():\n",
    "    I II III IV V VI VII VIII IX X\n",
    "    1         4 5             9  10\n",
    "    def to_int(self, numro):\n",
    "        a = 0\n",
    "        sym = ['I', 'V', 'X', 'L', 'C', 'D', 'M']\n",
    "        num = [ 1 ,  5 , 10 ,  50, 100, 500,1000]\n",
    "        for x in numro[-1::-1]:\n",
    "            if x == 'I':\n",
    "                a +=1\n",
    "            elif x == 'V':\n",
    "                n = 5-a\n",
    "                a = 0\n",
    "            elif x == 'I'\n",
    "        \n",
    "            \n",
    "            \n",
    "            \n",
    "        "
   ]
  },
  {
   "cell_type": "code",
   "execution_count": 31,
   "metadata": {},
   "outputs": [],
   "source": [
    "a = ['a' 'b', 'c', 'd']"
   ]
  },
  {
   "cell_type": "code",
   "execution_count": 33,
   "metadata": {},
   "outputs": [
    {
     "ename": "AttributeError",
     "evalue": "'list' object has no attribute 'find'",
     "output_type": "error",
     "traceback": [
      "\u001b[0;31m---------------------------------------------------------------------------\u001b[0m",
      "\u001b[0;31mAttributeError\u001b[0m                            Traceback (most recent call last)",
      "\u001b[0;32m<ipython-input-33-f1ad036b7163>\u001b[0m in \u001b[0;36m<module>\u001b[0;34m()\u001b[0m\n\u001b[0;32m----> 1\u001b[0;31m \u001b[0ma\u001b[0m\u001b[0;34m.\u001b[0m\u001b[0mfind\u001b[0m\u001b[0;34m(\u001b[0m\u001b[0;34m'a'\u001b[0m\u001b[0;34m)\u001b[0m\u001b[0;34m\u001b[0m\u001b[0m\n\u001b[0m",
      "\u001b[0;31mAttributeError\u001b[0m: 'list' object has no attribute 'find'"
     ]
    }
   ],
   "source": [
    "a.find('a')"
   ]
  },
  {
   "cell_type": "code",
   "execution_count": null,
   "metadata": {},
   "outputs": [],
   "source": []
  }
 ],
 "metadata": {
  "kernelspec": {
   "display_name": "Python 3",
   "language": "python",
   "name": "python3"
  },
  "language_info": {
   "codemirror_mode": {
    "name": "ipython",
    "version": 3
   },
   "file_extension": ".py",
   "mimetype": "text/x-python",
   "name": "python",
   "nbconvert_exporter": "python",
   "pygments_lexer": "ipython3",
   "version": "3.5.2"
  }
 },
 "nbformat": 4,
 "nbformat_minor": 2
}
