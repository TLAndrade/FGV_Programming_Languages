{
 "cells": [
  {
   "cell_type": "code",
   "execution_count": 6,
   "metadata": {},
   "outputs": [],
   "source": [
    "import numpy as np\n",
    "import matplotlib.pyplot as plt\n",
    "import pandas as pd\n",
    "from IPython.display import clear_output\n",
    "%matplotlib inline"
   ]
  },
  {
   "cell_type": "markdown",
   "metadata": {},
   "source": [
    "1 - Crie um objeto do tipo subplots do matplotlib com 4 eixos, ocupando duas linhas e duas colunas.  \n",
    "Plote em cada eixo as funções seno, cosseno, tangente e cotangente no intervalo de $ -2\\pi $ à $ +2\\pi $  \n",
    "Se necessário, consulte [esta](https://docs.scipy.org/doc/numpy-1.13.0/reference/routines.math.html) página."
   ]
  },
  {
   "cell_type": "code",
   "execution_count": 15,
   "metadata": {},
   "outputs": [
    {
     "data": {
      "image/png": "[encoded data removed]",
      "text/plain": [
       "<Figure size 432x288 with 4 Axes>"
      ]
     },
     "metadata": {},
     "output_type": "display_data"
    }
   ],
   "source": [
    "\n",
    "x = np.arange((-2)* np.pi,2*np.pi,0.01)\n",
    "y = np.sin(x)\n",
    "\n",
    "f, ((ax1, ax2),(ax3,ax4)) = plt.subplots(2, 2, sharex='col',sharey='row')\n",
    "plt.axis([(-2)* np.pi,2*np.pi,-1,1])\n",
    "ax4.plot(x,y)\n",
    "y1 = np.cos(x)\n",
    "plt.axis([(-2)* np.pi,2*np.pi,-1,1])\n",
    "ax1.plot(x,y1)\n",
    "plt.axis([(-2)* np.pi,2*np.pi,-1,1])\n",
    "ax2.plot(x,np.tan(x))\n",
    "plt.axis([(-2)* np.pi,2*np.pi,-1,1])\n",
    "ax3.plot(x,np.arctan(x))\n",
    "\n",
    "plt.show()\n",
    "\n",
    "\n",
    "\n"
   ]
  },
  {
   "cell_type": "code",
   "execution_count": null,
   "metadata": {},
   "outputs": [],
   "source": [
    "plt.axis([(-2)* np.pi,2*np.pi,-1,1])\n",
    "x = np.arange((-2)* np.pi,2*np.pi,0.01)\n",
    "y = np.sin(x)\n",
    "plt.plot(x,y)\n",
    "plt.show()\n",
    "\n",
    "plt.axis([(-2)* np.pi,2*np.pi,-1,1])\n",
    "x = np.arange((-2)* np.pi,2*np.pi,0.01)\n",
    "y = np.cos(x)\n",
    "plt.plot(x,y)\n",
    "plt.show()\n",
    "\n",
    "plt.axis([(-2)* np.pi,2*np.pi,-1,1])\n",
    "x = np.arange((-2)* np.pi,2*np.pi,0.01)\n",
    "y = np.tan(x)\n",
    "plt.plot(x,y)\n",
    "plt.show()"
   ]
  },
  {
   "cell_type": "markdown",
   "metadata": {},
   "source": [
    "2 - Crie objetos [Matrix](https://docs.scipy.org/doc/numpy/reference/generated/numpy.matrix.html) e [Array](https://docs.scipy.org/doc/numpy-1.15.1/reference/generated/numpy.array.html) a partir das listas criadas abaixo.  \n",
    "Mostre que a multiplicação dos objetos Array e Matrix apresentam resultados diferentes."
   ]
  },
  {
   "cell_type": "code",
   "execution_count": 10,
   "metadata": {},
   "outputs": [],
   "source": [
    "lista1 = [[1,5,3],[3,-6,1],[4,8,9]] \n",
    "lista2 = [[1,3,3],[2,6,8],[1,1,-9]]"
   ]
  },
  {
   "cell_type": "code",
   "execution_count": 16,
   "metadata": {},
   "outputs": [
    {
     "name": "stdout",
     "output_type": "stream",
     "text": [
      "[[ 14  36  16]\n",
      " [ -8 -26 -48]\n",
      " [ 29  69  -5]]\n",
      "\n",
      "[[  1  15   9]\n",
      " [  6 -36   8]\n",
      " [  4   8 -81]]\n"
     ]
    }
   ],
   "source": [
    "a1 = np.array(lista1)\n",
    "a2 = np.array(lista2)\n",
    "m1 = np.matrix(lista1)\n",
    "m2 = np.matrix(lista2)\n",
    "M = m1*m2\n",
    "A = a1*a2\n",
    "print(M)\n",
    "print()\n",
    "print(A)"
   ]
  },
  {
   "cell_type": "markdown",
   "metadata": {},
   "source": [
    "3 - Transforme um dos objetos Array anteriormente criados em um objeto [DataFrame](https://pandas.pydata.org/pandas-docs/stable/generated/pandas.DataFrame.html) do [Pandas](http://pandas.pydata.org/), utilizando como índices das linhas e como título das colunas os valores das listas criadas abaixo, respectivamente.   "
   ]
  },
  {
   "cell_type": "code",
   "execution_count": null,
   "metadata": {},
   "outputs": [],
   "source": [
    "linhas = ['linha1', 'linha2', 'linha3']\n",
    "colunas = ['coluna1','coluna2', 'coluna2']  "
   ]
  },
  {
   "cell_type": "code",
   "execution_count": null,
   "metadata": {},
   "outputs": [],
   "source": []
  },
  {
   "cell_type": "code",
   "execution_count": null,
   "metadata": {},
   "outputs": [],
   "source": []
  },
  {
   "cell_type": "markdown",
   "metadata": {},
   "source": [
    "4 - Exporte este DataFrame criado para um arquivo em formato html"
   ]
  },
  {
   "cell_type": "code",
   "execution_count": null,
   "metadata": {},
   "outputs": [],
   "source": []
  }
 ],
 "metadata": {
  "kernelspec": {
   "display_name": "Python 3",
   "language": "python",
   "name": "python3"
  },
  "language_info": {
   "codemirror_mode": {
    "name": "ipython",
    "version": 3
   },
   "file_extension": ".py",
   "mimetype": "text/x-python",
   "name": "python",
   "nbconvert_exporter": "python",
   "pygments_lexer": "ipython3",
   "version": "3.5.2"
  }
 },
 "nbformat": 4,
 "nbformat_minor": 2
}
