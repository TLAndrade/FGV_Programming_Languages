{
 "cells": [
  {
   "cell_type": "markdown",
   "metadata": {},
   "source": [
    "A2 de Linguagens de Programação – 26/11/2018\n",
    "--\n",
    "Professor: Renato Rocha Souza  \n",
    "--"
   ]
  },
  {
   "cell_type": "markdown",
   "metadata": {},
   "source": [
    "Nome do Aluno(a):"
   ]
  },
  {
   "cell_type": "code",
   "execution_count": 1,
   "metadata": {},
   "outputs": [
    {
     "name": "stdout",
     "output_type": "stream",
     "text": [
      "Entre com o seu nome completo: Tarla Lemos de Andrade\n",
      "Olá, Tarla Lemos de Andrade!\n",
      "Bom trabalho!\n"
     ]
    }
   ],
   "source": [
    "meu_nome = input('Entre com o seu nome completo: ')\n",
    "print('Olá, {}!'.format(meu_nome))\n",
    "print('Bom trabalho!')"
   ]
  },
  {
   "cell_type": "code",
   "execution_count": 1,
   "metadata": {},
   "outputs": [],
   "source": [
    "import numpy as np\n",
    "import pandas as pd\n",
    "import matplotlib.pyplot as plt\n",
    "import requests\n",
    "import random\n",
    "import re\n",
    "import string\n",
    "import time\n",
    "import pymysql\n",
    "import sqlite3\n",
    "import getpass\n",
    "import pandas.io.sql as psql\n",
    "import networkx as nx\n",
    "from IPython.display import clear_output\n",
    "%matplotlib inline"
   ]
  },
  {
   "cell_type": "markdown",
   "metadata": {},
   "source": [
    "Questão 1 (1,0 ponto):  \n",
    "\n",
    "Utilizando Python + SQL, crie uma tabela \"aluno\" em banco de dados no sqlite que tenha os seguintes campos:\n",
    "\n",
    "+ id \n",
    "+ nome\n",
    "+ data_nascimento\n",
    "+ matricula\n",
    "\n",
    "Escolha os tipos de dados apropriados. O campo id é chave primária, e deve ser autoincrementável. \n",
    "\n",
    "Veja:  \n",
    "https://sqlite.org/datatype3.html    \n",
    "https://sqlite.org/autoinc.html  \n",
    "https://www.tutorialspoint.com/sqlite/sqlite_update_query.htm  "
   ]
  },
  {
   "cell_type": "code",
   "execution_count": 2,
   "metadata": {},
   "outputs": [],
   "source": [
    "conn = sqlite3.connect('../../Dados/meudatabase.sqlite')\n",
    "cur = conn.cursor()"
   ]
  },
  {
   "cell_type": "code",
   "execution_count": 3,
   "metadata": {},
   "outputs": [
    {
     "ename": "OperationalError",
     "evalue": "near \"AUTO_INCREMENT\": syntax error",
     "output_type": "error",
     "traceback": [
      "\u001b[0;31m---------------------------------------------------------------------------\u001b[0m",
      "\u001b[0;31mOperationalError\u001b[0m                          Traceback (most recent call last)",
      "\u001b[0;32m<ipython-input-3-c3f94b90c10a>\u001b[0m in \u001b[0;36m<module>\u001b[0;34m()\u001b[0m\n\u001b[1;32m      7\u001b[0m         ENGINE=MyISAM DEFAULT CHARSET='utf8';'''\n\u001b[1;32m      8\u001b[0m \u001b[0;34m\u001b[0m\u001b[0m\n\u001b[0;32m----> 9\u001b[0;31m \u001b[0mcur\u001b[0m\u001b[0;34m.\u001b[0m\u001b[0mexecute\u001b[0m\u001b[0;34m(\u001b[0m\u001b[0mt\u001b[0m\u001b[0;34m)\u001b[0m\u001b[0;34m\u001b[0m\u001b[0m\n\u001b[0m",
      "\u001b[0;31mOperationalError\u001b[0m: near \"AUTO_INCREMENT\": syntax error"
     ]
    }
   ],
   "source": [
    "t = ''' CREATE TABLE IF NOT EXISTS aluno (\n",
    "        id INT NOT NULL AUTO_INCREMENT PRIMARY KEY FIRST,\n",
    "        nome VARCHAR(100) DEFAULT NULL,\n",
    "        data_nasc DEFAULT NULL,\n",
    "        matricula VARCHAR(50) DEFAULT NULL,\n",
    "        )\n",
    "        ENGINE=MyISAM DEFAULT CHARSET='utf8';'''\n",
    "\n",
    "cur.execute(t)"
   ]
  },
  {
   "cell_type": "code",
   "execution_count": null,
   "metadata": {},
   "outputs": [],
   "source": []
  },
  {
   "cell_type": "markdown",
   "metadata": {},
   "source": [
    "Questão 2 (1.5 ponto):  \n",
    "\n",
    "Conecte ao banco SQLite \"iris_database.sqlite\"e responda, demonstrando os comandos Python + SQL apropriados:  \n",
    "\n",
    "a) Há quantas \"Species\" diferentes na tabela \"iris\"?  \n",
    "b) Quantos registros totais há na tabela \"iris\"?  \n",
    "\n",
    "Considerando a superfície das pétalas e sépalas como retangular, responda:  \n",
    "\n",
    "c) Qual espécie (\"Species\") contém, em média, a maior área de pétalas?  \n",
    "d) Qual espécie (\"Species\") contém, em média, a maior área total (pétalas e sépalas)?  \n",
    "\n",
    "(Por curiosidade, as espécies de Iris contém 3 pétalas e 3 sépalas)  "
   ]
  },
  {
   "cell_type": "code",
   "execution_count": 144,
   "metadata": {},
   "outputs": [
    {
     "name": "stdout",
     "output_type": "stream",
     "text": [
      "/dados/home/tarlalemos/FGV_Programming_Languages/Python/Exercicios/Avaliacoes\r\n"
     ]
    }
   ],
   "source": [
    "!pwd"
   ]
  },
  {
   "cell_type": "code",
   "execution_count": 4,
   "metadata": {},
   "outputs": [],
   "source": [
    "conn = sqlite3.connect('../../Dados/iris_database.sqlite')\n",
    "cur = conn.cursor()"
   ]
  },
  {
   "cell_type": "code",
   "execution_count": 7,
   "metadata": {},
   "outputs": [
    {
     "ename": "OperationalError",
     "evalue": "near \"describe\": syntax error",
     "output_type": "error",
     "traceback": [
      "\u001b[0;31m---------------------------------------------------------------------------\u001b[0m",
      "\u001b[0;31mOperationalError\u001b[0m                          Traceback (most recent call last)",
      "\u001b[0;32m<ipython-input-7-36924bfb5fa8>\u001b[0m in \u001b[0;36m<module>\u001b[0;34m()\u001b[0m\n\u001b[0;32m----> 1\u001b[0;31m \u001b[0mcur\u001b[0m\u001b[0;34m.\u001b[0m\u001b[0mexecute\u001b[0m\u001b[0;34m(\u001b[0m\u001b[0;34m\"describe iris\"\u001b[0m\u001b[0;34m)\u001b[0m\u001b[0;34m\u001b[0m\u001b[0m\n\u001b[0m\u001b[1;32m      2\u001b[0m \u001b[0;32mfor\u001b[0m \u001b[0mr\u001b[0m \u001b[0;32min\u001b[0m \u001b[0mfetchall\u001b[0m\u001b[0;34m(\u001b[0m\u001b[0;34m)\u001b[0m\u001b[0;34m:\u001b[0m\u001b[0;34m\u001b[0m\u001b[0m\n\u001b[1;32m      3\u001b[0m     \u001b[0mprint\u001b[0m\u001b[0;34m(\u001b[0m\u001b[0mr\u001b[0m\u001b[0;34m)\u001b[0m\u001b[0;34m\u001b[0m\u001b[0m\n",
      "\u001b[0;31mOperationalError\u001b[0m: near \"describe\": syntax error"
     ]
    }
   ],
   "source": [
    "cur.execute(\"describe iris\")\n",
    "for r in fetchall():\n",
    "    print(r)"
   ]
  },
  {
   "cell_type": "code",
   "execution_count": 5,
   "metadata": {},
   "outputs": [
    {
     "name": "stdout",
     "output_type": "stream",
     "text": [
      "('Iris-setosa',)\n",
      "('Iris-versicolor',)\n",
      "('Iris-virginica',)\n"
     ]
    }
   ],
   "source": [
    "cur.execute('select distinct Species from  iris')\n",
    "for r in cur.fetchall():\n",
    "    print(r)"
   ]
  },
  {
   "cell_type": "code",
   "execution_count": 6,
   "metadata": {},
   "outputs": [
    {
     "name": "stdout",
     "output_type": "stream",
     "text": [
      "(150,)\n"
     ]
    }
   ],
   "source": [
    "#b\n",
    "cur.execute(\"select count(*) from iris\")\n",
    "for t in cur.fetchall():\n",
    "    print(t)"
   ]
  },
  {
   "cell_type": "code",
   "execution_count": 247,
   "metadata": {},
   "outputs": [
    {
     "name": "stdout",
     "output_type": "stream",
     "text": [
      "('Iris-setosa', 0.36280000000000023)\n",
      "('Iris-versicolor', 5.7204)\n",
      "('Iris-virginica', 11.296199999999994)\n"
     ]
    }
   ],
   "source": [
    "#c - Iris-virginica, Iris-virginica\n",
    "media = cur.execute('select Species, avg(PetalLengthCm*PetalWidthCm) from iris group by Species')\n",
    "for r in cur.fetchall():\n",
    "    print(r)"
   ]
  },
  {
   "cell_type": "code",
   "execution_count": 249,
   "metadata": {},
   "outputs": [
    {
     "name": "stdout",
     "output_type": "stream",
     "text": [
      "('Iris-setosa', 17.571600000000007)\n",
      "('Iris-versicolor', 22.2466)\n",
      "('Iris-virginica', 30.980799999999995)\n"
     ]
    }
   ],
   "source": [
    "cur.execute('select Species, avg(PetalLengthCm*PetalWidthCm)+avg(SepalLengthCm*SepalWidthCm) from iris group by Species')\n",
    "for r in cur.fetchall():\n",
    "    print(r)"
   ]
  },
  {
   "cell_type": "markdown",
   "metadata": {},
   "source": [
    "Questão 3 (1.5 pontos):  \n",
    "\n",
    "Importe o arquivo ../../Dados/votesurvey.xls para um dataframe do Python usando o método apropriado, e responda às questões:  \n",
    "\n",
    "a) Exiba as 15 primeiras linhas (essa é muito fácil!).  \n",
    "b) Qual a média de salário desejado, dentre os eleitores de cada presidente?  \n",
    "c) Qual fator tem maior influência sobre o salário atual? Sexo ou Idade?  \n",
    "d) Crie uma nova coluna no dataframe original que exiba o salário atual dividido pela idade.  "
   ]
  },
  {
   "cell_type": "code",
   "execution_count": 314,
   "metadata": {},
   "outputs": [],
   "source": [
    "vote = pd.read_excel('../../Dados/votesurvey.xls')"
   ]
  },
  {
   "cell_type": "code",
   "execution_count": 315,
   "metadata": {},
   "outputs": [
    {
     "data": {
      "text/html": [
       "<div>\n",
       "<style scoped>\n",
       "    .dataframe tbody tr th:only-of-type {\n",
       "        vertical-align: middle;\n",
       "    }\n",
       "\n",
       "    .dataframe tbody tr th {\n",
       "        vertical-align: top;\n",
       "    }\n",
       "\n",
       "    .dataframe thead th {\n",
       "        text-align: right;\n",
       "    }\n",
       "</style>\n",
       "<table border=\"1\" class=\"dataframe\">\n",
       "  <thead>\n",
       "    <tr style=\"text-align: right;\">\n",
       "      <th></th>\n",
       "      <th>Gender</th>\n",
       "      <th>Age</th>\n",
       "      <th>Salary before Stern</th>\n",
       "      <th>Expected salary</th>\n",
       "      <th>Candidate</th>\n",
       "    </tr>\n",
       "  </thead>\n",
       "  <tbody>\n",
       "    <tr>\n",
       "      <th>0</th>\n",
       "      <td>Male</td>\n",
       "      <td>27</td>\n",
       "      <td>60000</td>\n",
       "      <td>110000</td>\n",
       "      <td>Bush</td>\n",
       "    </tr>\n",
       "    <tr>\n",
       "      <th>1</th>\n",
       "      <td>Male</td>\n",
       "      <td>30</td>\n",
       "      <td>125000</td>\n",
       "      <td>125000</td>\n",
       "      <td>Bush</td>\n",
       "    </tr>\n",
       "    <tr>\n",
       "      <th>2</th>\n",
       "      <td>Male</td>\n",
       "      <td>27</td>\n",
       "      <td>50000</td>\n",
       "      <td>120000</td>\n",
       "      <td>Bush</td>\n",
       "    </tr>\n",
       "    <tr>\n",
       "      <th>3</th>\n",
       "      <td>Male</td>\n",
       "      <td>26</td>\n",
       "      <td>56000</td>\n",
       "      <td>100000</td>\n",
       "      <td>Bush</td>\n",
       "    </tr>\n",
       "    <tr>\n",
       "      <th>4</th>\n",
       "      <td>Male</td>\n",
       "      <td>27</td>\n",
       "      <td>82000</td>\n",
       "      <td>100000</td>\n",
       "      <td>Bush</td>\n",
       "    </tr>\n",
       "    <tr>\n",
       "      <th>5</th>\n",
       "      <td>Male</td>\n",
       "      <td>32</td>\n",
       "      <td>150000</td>\n",
       "      <td>150000</td>\n",
       "      <td>Bush</td>\n",
       "    </tr>\n",
       "    <tr>\n",
       "      <th>6</th>\n",
       "      <td>Female</td>\n",
       "      <td>24</td>\n",
       "      <td>55000</td>\n",
       "      <td>100000</td>\n",
       "      <td>Bush</td>\n",
       "    </tr>\n",
       "    <tr>\n",
       "      <th>7</th>\n",
       "      <td>Male</td>\n",
       "      <td>30</td>\n",
       "      <td>110000</td>\n",
       "      <td>150000</td>\n",
       "      <td>Bush</td>\n",
       "    </tr>\n",
       "    <tr>\n",
       "      <th>8</th>\n",
       "      <td>Male</td>\n",
       "      <td>26</td>\n",
       "      <td>48000</td>\n",
       "      <td>80000</td>\n",
       "      <td>Bush</td>\n",
       "    </tr>\n",
       "    <tr>\n",
       "      <th>9</th>\n",
       "      <td>Male</td>\n",
       "      <td>26</td>\n",
       "      <td>120000</td>\n",
       "      <td>80000</td>\n",
       "      <td>Bush</td>\n",
       "    </tr>\n",
       "    <tr>\n",
       "      <th>10</th>\n",
       "      <td>Female</td>\n",
       "      <td>24</td>\n",
       "      <td>59000</td>\n",
       "      <td>90000</td>\n",
       "      <td>Bush</td>\n",
       "    </tr>\n",
       "    <tr>\n",
       "      <th>11</th>\n",
       "      <td>Male</td>\n",
       "      <td>27</td>\n",
       "      <td>65000</td>\n",
       "      <td>125000</td>\n",
       "      <td>Bush</td>\n",
       "    </tr>\n",
       "    <tr>\n",
       "      <th>12</th>\n",
       "      <td>Male</td>\n",
       "      <td>26</td>\n",
       "      <td>55000</td>\n",
       "      <td>120000</td>\n",
       "      <td>Bush</td>\n",
       "    </tr>\n",
       "    <tr>\n",
       "      <th>13</th>\n",
       "      <td>Male</td>\n",
       "      <td>28</td>\n",
       "      <td>70000</td>\n",
       "      <td>125000</td>\n",
       "      <td>Bush</td>\n",
       "    </tr>\n",
       "    <tr>\n",
       "      <th>14</th>\n",
       "      <td>Male</td>\n",
       "      <td>25</td>\n",
       "      <td>80000</td>\n",
       "      <td>100000</td>\n",
       "      <td>Bush</td>\n",
       "    </tr>\n",
       "  </tbody>\n",
       "</table>\n",
       "</div>"
      ],
      "text/plain": [
       "    Gender  Age  Salary before Stern  Expected salary Candidate\n",
       "0     Male   27                60000           110000      Bush\n",
       "1     Male   30               125000           125000      Bush\n",
       "2     Male   27                50000           120000      Bush\n",
       "3     Male   26                56000           100000      Bush\n",
       "4     Male   27                82000           100000      Bush\n",
       "5     Male   32               150000           150000      Bush\n",
       "6   Female   24                55000           100000      Bush\n",
       "7     Male   30               110000           150000      Bush\n",
       "8     Male   26                48000            80000      Bush\n",
       "9     Male   26               120000            80000      Bush\n",
       "10  Female   24                59000            90000      Bush\n",
       "11    Male   27                65000           125000      Bush\n",
       "12    Male   26                55000           120000      Bush\n",
       "13    Male   28                70000           125000      Bush\n",
       "14    Male   25                80000           100000      Bush"
      ]
     },
     "execution_count": 315,
     "metadata": {},
     "output_type": "execute_result"
    }
   ],
   "source": [
    "#a)tks\n",
    "vote[:15]"
   ]
  },
  {
   "cell_type": "code",
   "execution_count": 317,
   "metadata": {},
   "outputs": [
    {
     "data": {
      "text/plain": [
       "Candidate\n",
       "Bush                111666.666667\n",
       "Gore                103055.555556\n",
       "Refuse to answer    119500.000000\n",
       "Undecided           103000.000000\n",
       "Name: Expected salary, dtype: float64"
      ]
     },
     "execution_count": 317,
     "metadata": {},
     "output_type": "execute_result"
    }
   ],
   "source": [
    "#b)\n",
    "vote.groupby('Candidate').mean()['Expected salary']"
   ]
  },
  {
   "cell_type": "code",
   "execution_count": 325,
   "metadata": {},
   "outputs": [
    {
     "name": "stdout",
     "output_type": "stream",
     "text": [
      "Gender\n",
      "Female    1.401780e+11\n",
      "Male      9.147509e+10\n",
      "Name: Salary before Stern, dtype: float64\n"
     ]
    }
   ],
   "source": [
    "#c) Pelo critério de soma dos erros ao quadrado é por gênero.\n",
    "# Gênero:\n",
    "media_por_genero = vote.groupby('Gender').mean()['Salary before Stern']\n",
    "def erros_quadrados(vote, criterio):\n",
    "    e = 0\n",
    "    for x in range(len(vote)):\n",
    "        e = e + (vote.loc[x, 'Expected salary']- criterio)**2\n",
    "    return e\n",
    "        \n",
    "EQG = erros_quadrados(vote, media_por_genero)  "
   ]
  },
  {
   "cell_type": "code",
   "execution_count": 323,
   "metadata": {},
   "outputs": [
    {
     "data": {
      "text/plain": [
       "Age\n",
       "24    1.617420e+11\n",
       "25    1.750873e+11\n",
       "26    8.756075e+10\n",
       "27    1.466261e+11\n",
       "28    1.079167e+11\n",
       "29    7.235098e+10\n",
       "30    3.912500e+10\n",
       "32    1.111500e+11\n",
       "33    1.471500e+11\n",
       "Name: Salary before Stern, dtype: float64"
      ]
     },
     "execution_count": 323,
     "metadata": {},
     "output_type": "execute_result"
    }
   ],
   "source": [
    "# idade:\n",
    "media_por_idade = vote.groupby('Age').mean()['Salary before Stern']\n",
    "erros_quadrados(vote,media_por_idade)"
   ]
  },
  {
   "cell_type": "code",
   "execution_count": 320,
   "metadata": {},
   "outputs": [
    {
     "data": {
      "text/plain": [
       "Gender\n",
       "Female    61500.000000\n",
       "Male      73705.882353\n",
       "Name: Salary before Stern, dtype: float64"
      ]
     },
     "execution_count": 320,
     "metadata": {},
     "output_type": "execute_result"
    }
   ],
   "source": [
    "media_por_genero"
   ]
  },
  {
   "cell_type": "code",
   "execution_count": 180,
   "metadata": {
    "collapsed": true
   },
   "outputs": [
    {
     "name": "stderr",
     "output_type": "stream",
     "text": [
      "/usr/local/lib/python3.5/dist-packages/pandas/core/indexing.py:1472: FutureWarning: \n",
      "Passing list-likes to .loc or [] with any missing label will raise\n",
      "KeyError in the future, you can use .reindex() as an alternative.\n",
      "\n",
      "See the documentation here:\n",
      "https://pandas.pydata.org/pandas-docs/stable/indexing.html#deprecate-loc-reindex-listlike\n",
      "  return self._getitem_tuple(key)\n"
     ]
    },
    {
     "data": {
      "text/html": [
       "<div>\n",
       "<style scoped>\n",
       "    .dataframe tbody tr th:only-of-type {\n",
       "        vertical-align: middle;\n",
       "    }\n",
       "\n",
       "    .dataframe tbody tr th {\n",
       "        vertical-align: top;\n",
       "    }\n",
       "\n",
       "    .dataframe thead th {\n",
       "        text-align: right;\n",
       "    }\n",
       "</style>\n",
       "<table border=\"1\" class=\"dataframe\">\n",
       "  <thead>\n",
       "    <tr style=\"text-align: right;\">\n",
       "      <th></th>\n",
       "      <th>gender</th>\n",
       "      <th>Expected salary</th>\n",
       "    </tr>\n",
       "  </thead>\n",
       "  <tbody>\n",
       "    <tr>\n",
       "      <th>0</th>\n",
       "      <td>NaN</td>\n",
       "      <td>110000</td>\n",
       "    </tr>\n",
       "    <tr>\n",
       "      <th>1</th>\n",
       "      <td>NaN</td>\n",
       "      <td>125000</td>\n",
       "    </tr>\n",
       "    <tr>\n",
       "      <th>2</th>\n",
       "      <td>NaN</td>\n",
       "      <td>120000</td>\n",
       "    </tr>\n",
       "    <tr>\n",
       "      <th>3</th>\n",
       "      <td>NaN</td>\n",
       "      <td>100000</td>\n",
       "    </tr>\n",
       "    <tr>\n",
       "      <th>4</th>\n",
       "      <td>NaN</td>\n",
       "      <td>100000</td>\n",
       "    </tr>\n",
       "    <tr>\n",
       "      <th>5</th>\n",
       "      <td>NaN</td>\n",
       "      <td>150000</td>\n",
       "    </tr>\n",
       "    <tr>\n",
       "      <th>6</th>\n",
       "      <td>NaN</td>\n",
       "      <td>100000</td>\n",
       "    </tr>\n",
       "    <tr>\n",
       "      <th>7</th>\n",
       "      <td>NaN</td>\n",
       "      <td>150000</td>\n",
       "    </tr>\n",
       "    <tr>\n",
       "      <th>8</th>\n",
       "      <td>NaN</td>\n",
       "      <td>80000</td>\n",
       "    </tr>\n",
       "    <tr>\n",
       "      <th>9</th>\n",
       "      <td>NaN</td>\n",
       "      <td>80000</td>\n",
       "    </tr>\n",
       "    <tr>\n",
       "      <th>10</th>\n",
       "      <td>NaN</td>\n",
       "      <td>90000</td>\n",
       "    </tr>\n",
       "    <tr>\n",
       "      <th>11</th>\n",
       "      <td>NaN</td>\n",
       "      <td>125000</td>\n",
       "    </tr>\n",
       "    <tr>\n",
       "      <th>12</th>\n",
       "      <td>NaN</td>\n",
       "      <td>120000</td>\n",
       "    </tr>\n",
       "    <tr>\n",
       "      <th>13</th>\n",
       "      <td>NaN</td>\n",
       "      <td>125000</td>\n",
       "    </tr>\n",
       "    <tr>\n",
       "      <th>14</th>\n",
       "      <td>NaN</td>\n",
       "      <td>100000</td>\n",
       "    </tr>\n",
       "    <tr>\n",
       "      <th>15</th>\n",
       "      <td>NaN</td>\n",
       "      <td>100000</td>\n",
       "    </tr>\n",
       "    <tr>\n",
       "      <th>16</th>\n",
       "      <td>NaN</td>\n",
       "      <td>150000</td>\n",
       "    </tr>\n",
       "    <tr>\n",
       "      <th>17</th>\n",
       "      <td>NaN</td>\n",
       "      <td>110000</td>\n",
       "    </tr>\n",
       "    <tr>\n",
       "      <th>18</th>\n",
       "      <td>NaN</td>\n",
       "      <td>125000</td>\n",
       "    </tr>\n",
       "    <tr>\n",
       "      <th>19</th>\n",
       "      <td>NaN</td>\n",
       "      <td>120000</td>\n",
       "    </tr>\n",
       "    <tr>\n",
       "      <th>20</th>\n",
       "      <td>NaN</td>\n",
       "      <td>100000</td>\n",
       "    </tr>\n",
       "    <tr>\n",
       "      <th>21</th>\n",
       "      <td>NaN</td>\n",
       "      <td>100000</td>\n",
       "    </tr>\n",
       "    <tr>\n",
       "      <th>22</th>\n",
       "      <td>NaN</td>\n",
       "      <td>180000</td>\n",
       "    </tr>\n",
       "    <tr>\n",
       "      <th>23</th>\n",
       "      <td>NaN</td>\n",
       "      <td>85000</td>\n",
       "    </tr>\n",
       "    <tr>\n",
       "      <th>24</th>\n",
       "      <td>NaN</td>\n",
       "      <td>100000</td>\n",
       "    </tr>\n",
       "    <tr>\n",
       "      <th>25</th>\n",
       "      <td>NaN</td>\n",
       "      <td>90000</td>\n",
       "    </tr>\n",
       "    <tr>\n",
       "      <th>26</th>\n",
       "      <td>NaN</td>\n",
       "      <td>90000</td>\n",
       "    </tr>\n",
       "    <tr>\n",
       "      <th>27</th>\n",
       "      <td>NaN</td>\n",
       "      <td>80000</td>\n",
       "    </tr>\n",
       "    <tr>\n",
       "      <th>28</th>\n",
       "      <td>NaN</td>\n",
       "      <td>100000</td>\n",
       "    </tr>\n",
       "    <tr>\n",
       "      <th>29</th>\n",
       "      <td>NaN</td>\n",
       "      <td>75000</td>\n",
       "    </tr>\n",
       "    <tr>\n",
       "      <th>30</th>\n",
       "      <td>NaN</td>\n",
       "      <td>85000</td>\n",
       "    </tr>\n",
       "    <tr>\n",
       "      <th>31</th>\n",
       "      <td>NaN</td>\n",
       "      <td>75000</td>\n",
       "    </tr>\n",
       "    <tr>\n",
       "      <th>32</th>\n",
       "      <td>NaN</td>\n",
       "      <td>90000</td>\n",
       "    </tr>\n",
       "    <tr>\n",
       "      <th>33</th>\n",
       "      <td>NaN</td>\n",
       "      <td>90000</td>\n",
       "    </tr>\n",
       "    <tr>\n",
       "      <th>34</th>\n",
       "      <td>NaN</td>\n",
       "      <td>100000</td>\n",
       "    </tr>\n",
       "    <tr>\n",
       "      <th>35</th>\n",
       "      <td>NaN</td>\n",
       "      <td>120000</td>\n",
       "    </tr>\n",
       "    <tr>\n",
       "      <th>36</th>\n",
       "      <td>NaN</td>\n",
       "      <td>100000</td>\n",
       "    </tr>\n",
       "    <tr>\n",
       "      <th>37</th>\n",
       "      <td>NaN</td>\n",
       "      <td>135000</td>\n",
       "    </tr>\n",
       "    <tr>\n",
       "      <th>38</th>\n",
       "      <td>NaN</td>\n",
       "      <td>100000</td>\n",
       "    </tr>\n",
       "    <tr>\n",
       "      <th>39</th>\n",
       "      <td>NaN</td>\n",
       "      <td>100000</td>\n",
       "    </tr>\n",
       "    <tr>\n",
       "      <th>40</th>\n",
       "      <td>NaN</td>\n",
       "      <td>180000</td>\n",
       "    </tr>\n",
       "    <tr>\n",
       "      <th>41</th>\n",
       "      <td>NaN</td>\n",
       "      <td>150000</td>\n",
       "    </tr>\n",
       "    <tr>\n",
       "      <th>42</th>\n",
       "      <td>NaN</td>\n",
       "      <td>120000</td>\n",
       "    </tr>\n",
       "    <tr>\n",
       "      <th>43</th>\n",
       "      <td>NaN</td>\n",
       "      <td>80000</td>\n",
       "    </tr>\n",
       "    <tr>\n",
       "      <th>44</th>\n",
       "      <td>NaN</td>\n",
       "      <td>95000</td>\n",
       "    </tr>\n",
       "    <tr>\n",
       "      <th>45</th>\n",
       "      <td>NaN</td>\n",
       "      <td>150000</td>\n",
       "    </tr>\n",
       "    <tr>\n",
       "      <th>46</th>\n",
       "      <td>NaN</td>\n",
       "      <td>100000</td>\n",
       "    </tr>\n",
       "    <tr>\n",
       "      <th>47</th>\n",
       "      <td>NaN</td>\n",
       "      <td>90000</td>\n",
       "    </tr>\n",
       "  </tbody>\n",
       "</table>\n",
       "</div>"
      ],
      "text/plain": [
       "    gender  Expected salary\n",
       "0      NaN           110000\n",
       "1      NaN           125000\n",
       "2      NaN           120000\n",
       "3      NaN           100000\n",
       "4      NaN           100000\n",
       "5      NaN           150000\n",
       "6      NaN           100000\n",
       "7      NaN           150000\n",
       "8      NaN            80000\n",
       "9      NaN            80000\n",
       "10     NaN            90000\n",
       "11     NaN           125000\n",
       "12     NaN           120000\n",
       "13     NaN           125000\n",
       "14     NaN           100000\n",
       "15     NaN           100000\n",
       "16     NaN           150000\n",
       "17     NaN           110000\n",
       "18     NaN           125000\n",
       "19     NaN           120000\n",
       "20     NaN           100000\n",
       "21     NaN           100000\n",
       "22     NaN           180000\n",
       "23     NaN            85000\n",
       "24     NaN           100000\n",
       "25     NaN            90000\n",
       "26     NaN            90000\n",
       "27     NaN            80000\n",
       "28     NaN           100000\n",
       "29     NaN            75000\n",
       "30     NaN            85000\n",
       "31     NaN            75000\n",
       "32     NaN            90000\n",
       "33     NaN            90000\n",
       "34     NaN           100000\n",
       "35     NaN           120000\n",
       "36     NaN           100000\n",
       "37     NaN           135000\n",
       "38     NaN           100000\n",
       "39     NaN           100000\n",
       "40     NaN           180000\n",
       "41     NaN           150000\n",
       "42     NaN           120000\n",
       "43     NaN            80000\n",
       "44     NaN            95000\n",
       "45     NaN           150000\n",
       "46     NaN           100000\n",
       "47     NaN            90000"
      ]
     },
     "execution_count": 180,
     "metadata": {},
     "output_type": "execute_result"
    }
   ],
   "source": [
    "vote.loc[:, ['gender', 'Expected salary']]"
   ]
  },
  {
   "cell_type": "code",
   "execution_count": 174,
   "metadata": {},
   "outputs": [
    {
     "data": {
      "text/plain": [
       "Age\n",
       "24     95000.000000\n",
       "25    100000.000000\n",
       "26    106250.000000\n",
       "27    106666.666667\n",
       "28    125833.333333\n",
       "29    109285.714286\n",
       "30    117500.000000\n",
       "32    150000.000000\n",
       "33    100000.000000\n",
       "Name: Expected salary, dtype: float64"
      ]
     },
     "execution_count": 174,
     "metadata": {},
     "output_type": "execute_result"
    }
   ],
   "source": [
    "vote.groupby('Age').mean()['Expected salary']"
   ]
  },
  {
   "cell_type": "code",
   "execution_count": null,
   "metadata": {},
   "outputs": [],
   "source": [
    "sal = vote.pivot_table('births', index='Gender', columns='sex', aggfunc=sum)"
   ]
  },
  {
   "cell_type": "code",
   "execution_count": 251,
   "metadata": {},
   "outputs": [],
   "source": [
    "#d)\n",
    "vote['Salary/Age'] = [vote.loc[x,'Salary before Stern']/vote.loc[x,'Age'] for x in range(len(vote))] "
   ]
  },
  {
   "cell_type": "markdown",
   "metadata": {},
   "source": [
    "Questão 4 (1.5 pontos): \n",
    "\n",
    "Transforme o arquivo ../../Dados/DomCasmurroMachadoAssis.txt em uma string no Python e responda, usando, quando possível, expressões regulares:  \n",
    "\n",
    "a) Quais as 10 palavras mais frequentes que _começam_ com \"a\" ou \"A\"?  \n",
    "b) Quantas palavras distintas que começam com letras _maiúsculas_ há no texto?  \n",
    "c) Quantas palavras há no texto com apenas uma; com apenas duas; e com apenas 3 vogais?  "
   ]
  },
  {
   "cell_type": "code",
   "execution_count": 47,
   "metadata": {},
   "outputs": [],
   "source": [
    "f = open('../../Dados/DomCasmurroMachadoAssis.txt',encoding='utf-8')\n",
    "texto = f.read()"
   ]
  },
  {
   "cell_type": "code",
   "execution_count": 287,
   "metadata": {},
   "outputs": [],
   "source": [
    "#a)\n",
    "# limpeza das palavras:\n",
    "palavras = texto.split()\n",
    "palavras = [p.strip(string.punctuation) for p in palavras]\n",
    "filtro = [x for x in palavras if re.search('^[Aa].', x)]\n",
    "sem_rep = list(set(filtro))\n",
    "lis_dic = [(x,palavras.count(x)) for x in sem_rep]\n",
    "lis_dic.sort(key=lambda x: x[1], )\n",
    "ordenado = lis_dic[-1::-1]\n"
   ]
  },
  {
   "cell_type": "code",
   "execution_count": 282,
   "metadata": {},
   "outputs": [
    {
     "data": {
      "text/plain": [
       "[('as', 497),\n",
       " ('ao', 328),\n",
       " ('ainda', 123),\n",
       " ('até', 97),\n",
       " ('agora', 94),\n",
       " ('aos', 85),\n",
       " ('assim', 81),\n",
       " ('and', 68),\n",
       " ('alguma', 67),\n",
       " ('aqui', 59)]"
      ]
     },
     "execution_count": 282,
     "metadata": {},
     "output_type": "execute_result"
    }
   ],
   "source": [
    "ordenado[:10]"
   ]
  },
  {
   "cell_type": "code",
   "execution_count": 304,
   "metadata": {},
   "outputs": [
    {
     "data": {
      "text/plain": [
       "7075"
      ]
     },
     "execution_count": 304,
     "metadata": {},
     "output_type": "execute_result"
    }
   ],
   "source": [
    "#b)\n",
    "set_palavras = list(set(palavras))\n",
    "T =[t for t in palavras if re.search(r'^[A-Z].*', t)]\n",
    "len(T)"
   ]
  },
  {
   "cell_type": "code",
   "execution_count": 309,
   "metadata": {},
   "outputs": [],
   "source": [
    "#c)\n",
    "\n",
    "# uma vogal:\n",
    "uma_vogal =[t for t in palavras if re.search(r'^[^aeiou]*[aeiou][^aeiou]*$', t, re.IGNORECASE)]\n",
    "duas_vogais = [t for t in palavras if re.search(r'^[^aeiou]*[aeiou][^aeiou]*[aeiou][^aeiou]*$', t, re.IGNORECASE)]\n",
    "tres_vogais = [t for t in palavras if re.search(r'^[^aeiou]*[aeiou][^aeiou]*[aeiou][^aeiou]*[aeiou][^aeiou]*$', t, re.IGNORECASE)]\n",
    "\n",
    "Qtd_uma_vogal = len(uma_vogal)\n",
    "Qtd_duas_vogais = len(duas_vogais)\n",
    "Qtd_tres_vogais = len(tres_vogais)"
   ]
  },
  {
   "cell_type": "code",
   "execution_count": 311,
   "metadata": {},
   "outputs": [
    {
     "name": "stdout",
     "output_type": "stream",
     "text": [
      "23037\n",
      "22397\n",
      "12716\n"
     ]
    }
   ],
   "source": [
    "print(Qtd_uma_vogal) \n",
    "print(Qtd_duas_vogais)\n",
    "print(Qtd_tres_vogais)"
   ]
  },
  {
   "cell_type": "markdown",
   "metadata": {},
   "source": [
    "Questão 5 (1.5 pontos):    \n",
    "\n",
    "Utilizando apenas o Shell Linux, e utilizando o arquivo ../../Dados/DomCasmurroMachadoAssis.txt, diga os comandos para responder às seguintes perguntas:  \n",
    "\n",
    "a) Quais as 10 palavras mais frequentes que _terminam_ com \"a\" ou \"A\"?  \n",
    "b) Quantas palavras distintas que começam com _minúsculas_ há no texto?   \n",
    "c) Como ordenar as palavras distintas por ordem de \"rima\"?  "
   ]
  },
  {
   "cell_type": "code",
   "execution_count": 99,
   "metadata": {},
   "outputs": [
    {
     "name": "stdout",
     "output_type": "stream",
     "text": [
      "    623 da\r\n",
      "    532 para\r\n",
      "    468 era\r\n",
      "    398 uma\r\n",
      "    312 minha\r\n",
      "    308 na\r\n",
      "    177 ella\r\n",
      "    170 casa\r\n",
      "    133 outra\r\n",
      "    130 ainda\r\n",
      "sort: write failed: 'standard output': Broken pipe\r\n",
      "sort: write error\r\n"
     ]
    }
   ],
   "source": [
    "#a)\n",
    "!cat ../../Dados/DomCasmurroMachadoAssis.txt | tr -sc  '[a-záàâãéêíôóõúç][A-ZÁÀÃÂÉÊÍÓÔÚÇ]' '[\\012*]' | grep '.[aA]$'| sort| uniq -c| sort -gr| sed 10q "
   ]
  },
  {
   "cell_type": "code",
   "execution_count": 104,
   "metadata": {},
   "outputs": [
    {
     "name": "stdout",
     "output_type": "stream",
     "text": [
      "tr: write error: Broken pipe\r\n",
      "tr: write error\r\n",
      "cat: write error: Broken pipe\r\n",
      "1795\r\n"
     ]
    }
   ],
   "source": [
    "#b)\n",
    "!cat ../../Dados/DomCasmurroMachadoAssis.txt| tr -sc  '[a-záàâãéêíôóõúç][A-ZÁÀÃÂÉÊÍÓÔÚÇ]' '[\\012*]'| grep '^[a-záàâãéêíôóõú].'| sort| uniq| wc -l"
   ]
  },
  {
   "cell_type": "code",
   "execution_count": 108,
   "metadata": {},
   "outputs": [
    {
     "name": "stdout",
     "output_type": "stream",
     "text": [
      "rev: stdin: Invalid or incomplete multibyte or wide character\r\n",
      "\r\n",
      "a\r\n",
      "á\r\n",
      "acaba\r\n",
      "barba\r\n",
      "ameaça\r\n",
      "bocca\r\n",
      "Bibliotheca\r\n",
      "boneca\r\n",
      "aconteça\r\n",
      "uniq: write error: Broken pipe\r\n"
     ]
    }
   ],
   "source": [
    "#c)\n",
    "!cat ../../Dados/DomCasmurroMachadoAssis.txt | tr ']' '\\n'| tr -sc  '[a-záàâãéêíôóõúç][A-ZÁÀÃÂÉÊÍÓÔÚÇ]' '[\\012*]'| sort| uniq -i| rev| sort| rev| sed 10q\n"
   ]
  },
  {
   "cell_type": "markdown",
   "metadata": {},
   "source": [
    "Questão 6 (2.0 ponto):  \n",
    "\n",
    "Conecte ao banco Python/Dados/chinook.sqlite e responda:\n",
    "\n",
    "a) Leia para dataframes do Pandas as tabelas \"invoices\", \"invoice_items\", \"customers\" e \"tracks\"; e mostre quais as faixas compradas por clientes que têm o primeiro nome começando com a letra \"M\".  \n",
    "b) Crie um histograma de faixas (\"tracks\") mais compradas.  \n",
    "c) Escreva um script em Python + SQL para construir um dicionário tendo os nomes dos artistas (\"artists\") como chaves e uma lista dos álbuns (\"albuns\") respectivos como valores."
   ]
  },
  {
   "cell_type": "code",
   "execution_count": 125,
   "metadata": {},
   "outputs": [
    {
     "name": "stdout",
     "output_type": "stream",
     "text": [
      "/dados/home/tarlalemos/FGV_Programming_Languages/Python/Exercicios/Avaliacoes\r\n"
     ]
    }
   ],
   "source": [
    "!pwd"
   ]
  },
  {
   "cell_type": "code",
   "execution_count": 329,
   "metadata": {},
   "outputs": [],
   "source": [
    "conn = sqlite3.connect('../../Dados/chinook.sqlite')\n",
    "cur = conn.cursor()"
   ]
  },
  {
   "cell_type": "code",
   "execution_count": 330,
   "metadata": {},
   "outputs": [],
   "source": [
    "#a)\n",
    "invoices = pd.read_sql_query('select * from invoices', conn)\n",
    "invoice_items = pd.read_sql_query('select * from invoice_items', conn)\n",
    "customers = pd.read_sql_query('select * from customers', conn)\n",
    "tracks = pd.read_sql_query('select * from tracks', conn)"
   ]
  },
  {
   "cell_type": "code",
   "execution_count": 331,
   "metadata": {},
   "outputs": [
    {
     "ename": "NameError",
     "evalue": "name 'invoices_items' is not defined",
     "output_type": "error",
     "traceback": [
      "\u001b[0;31m---------------------------------------------------------------------------\u001b[0m",
      "\u001b[0;31mNameError\u001b[0m                                 Traceback (most recent call last)",
      "\u001b[0;32m<ipython-input-331-b0b266e7e324>\u001b[0m in \u001b[0;36m<module>\u001b[0;34m()\u001b[0m\n\u001b[0;32m----> 1\u001b[0;31m \u001b[0minvoices_items\u001b[0m\u001b[0;34m\u001b[0m\u001b[0m\n\u001b[0m",
      "\u001b[0;31mNameError\u001b[0m: name 'invoices_items' is not defined"
     ]
    }
   ],
   "source": [
    "cur.execute('select customers.FirstName, tracks.name from customers,tracks join invoice_items.InvoiceId=invoices.InvoiceId where customers.FirstName like \"M%\" )"
   ]
  },
  {
   "cell_type": "code",
   "execution_count": 348,
   "metadata": {},
   "outputs": [
    {
     "data": {
      "text/html": [
       "<div>\n",
       "<style scoped>\n",
       "    .dataframe tbody tr th:only-of-type {\n",
       "        vertical-align: middle;\n",
       "    }\n",
       "\n",
       "    .dataframe tbody tr th {\n",
       "        vertical-align: top;\n",
       "    }\n",
       "\n",
       "    .dataframe thead th {\n",
       "        text-align: right;\n",
       "    }\n",
       "</style>\n",
       "<table border=\"1\" class=\"dataframe\">\n",
       "  <thead>\n",
       "    <tr style=\"text-align: right;\">\n",
       "      <th></th>\n",
       "      <th>InvoiceId</th>\n",
       "      <th>CustomerId</th>\n",
       "      <th>InvoiceDate</th>\n",
       "      <th>BillingAddress</th>\n",
       "      <th>BillingCity</th>\n",
       "      <th>BillingState</th>\n",
       "      <th>BillingCountry</th>\n",
       "      <th>BillingPostalCode</th>\n",
       "      <th>Total</th>\n",
       "    </tr>\n",
       "  </thead>\n",
       "  <tbody>\n",
       "    <tr>\n",
       "      <th>0</th>\n",
       "      <td>1</td>\n",
       "      <td>2</td>\n",
       "      <td>2009-01-01 00:00:00</td>\n",
       "      <td>Theodor-Heuss-Straße 34</td>\n",
       "      <td>Stuttgart</td>\n",
       "      <td>None</td>\n",
       "      <td>Germany</td>\n",
       "      <td>70174</td>\n",
       "      <td>1.98</td>\n",
       "    </tr>\n",
       "    <tr>\n",
       "      <th>1</th>\n",
       "      <td>2</td>\n",
       "      <td>4</td>\n",
       "      <td>2009-01-02 00:00:00</td>\n",
       "      <td>Ullevålsveien 14</td>\n",
       "      <td>Oslo</td>\n",
       "      <td>None</td>\n",
       "      <td>Norway</td>\n",
       "      <td>0171</td>\n",
       "      <td>3.96</td>\n",
       "    </tr>\n",
       "    <tr>\n",
       "      <th>2</th>\n",
       "      <td>3</td>\n",
       "      <td>8</td>\n",
       "      <td>2009-01-03 00:00:00</td>\n",
       "      <td>Grétrystraat 63</td>\n",
       "      <td>Brussels</td>\n",
       "      <td>None</td>\n",
       "      <td>Belgium</td>\n",
       "      <td>1000</td>\n",
       "      <td>5.94</td>\n",
       "    </tr>\n",
       "    <tr>\n",
       "      <th>3</th>\n",
       "      <td>4</td>\n",
       "      <td>14</td>\n",
       "      <td>2009-01-06 00:00:00</td>\n",
       "      <td>8210 111 ST NW</td>\n",
       "      <td>Edmonton</td>\n",
       "      <td>AB</td>\n",
       "      <td>Canada</td>\n",
       "      <td>T6G 2C7</td>\n",
       "      <td>8.91</td>\n",
       "    </tr>\n",
       "    <tr>\n",
       "      <th>4</th>\n",
       "      <td>5</td>\n",
       "      <td>23</td>\n",
       "      <td>2009-01-11 00:00:00</td>\n",
       "      <td>69 Salem Street</td>\n",
       "      <td>Boston</td>\n",
       "      <td>MA</td>\n",
       "      <td>USA</td>\n",
       "      <td>2113</td>\n",
       "      <td>13.86</td>\n",
       "    </tr>\n",
       "  </tbody>\n",
       "</table>\n",
       "</div>"
      ],
      "text/plain": [
       "   InvoiceId  CustomerId          InvoiceDate           BillingAddress  \\\n",
       "0          1           2  2009-01-01 00:00:00  Theodor-Heuss-Straße 34   \n",
       "1          2           4  2009-01-02 00:00:00         Ullevålsveien 14   \n",
       "2          3           8  2009-01-03 00:00:00          Grétrystraat 63   \n",
       "3          4          14  2009-01-06 00:00:00           8210 111 ST NW   \n",
       "4          5          23  2009-01-11 00:00:00          69 Salem Street   \n",
       "\n",
       "  BillingCity BillingState BillingCountry BillingPostalCode  Total  \n",
       "0   Stuttgart         None        Germany             70174   1.98  \n",
       "1        Oslo         None         Norway              0171   3.96  \n",
       "2    Brussels         None        Belgium              1000   5.94  \n",
       "3    Edmonton           AB         Canada           T6G 2C7   8.91  \n",
       "4      Boston           MA            USA              2113  13.86  "
      ]
     },
     "execution_count": 348,
     "metadata": {},
     "output_type": "execute_result"
    }
   ],
   "source": [
    "invoices.head()"
   ]
  },
  {
   "cell_type": "code",
   "execution_count": 343,
   "metadata": {},
   "outputs": [
    {
     "data": {
      "text/plain": [
       "[411,\n",
       " 404,\n",
       " 397,\n",
       " 390,\n",
       " 383,\n",
       " 376,\n",
       " 369,\n",
       " 362,\n",
       " 355,\n",
       " 348,\n",
       " 341,\n",
       " 334,\n",
       " 327,\n",
       " 320,\n",
       " 313,\n",
       " 306,\n",
       " 299,\n",
       " 292,\n",
       " 285,\n",
       " 278]"
      ]
     },
     "execution_count": 343,
     "metadata": {},
     "output_type": "execute_result"
    }
   ],
   "source": [
    "#b)\n",
    "\n",
    "#Tracks mais compradas:\n",
    "cur.execute('select InvoiceId,count(*) from invoice_items group by InvoiceId')\n",
    "L=[]\n",
    "for r in cur.fetchall():\n",
    "    L.append(r)\n",
    "L.sort(key=lambda x: x[1], )\n",
    "L=L[-1::-1]\n",
    "L = [L[x][0] for x in range(20)]\n",
    "L #ID\n",
    "\n",
    "#histograma:\n",
    "\n"
   ]
  },
  {
   "cell_type": "code",
   "execution_count": null,
   "metadata": {},
   "outputs": [],
   "source": [
    "#c)"
   ]
  },
  {
   "cell_type": "markdown",
   "metadata": {},
   "source": [
    "Auto-avaliação (1 ponto):    \n",
    "Escreva sua auto-avaliação (mínimo de 3 linhas) e atribua a esta um valor entre 0 e 1, levando em consideração o aproveitamento na disciplina.\n",
    "\n",
    "Precisaria de mais tempo para absorver o conteúdo da disciplina, considerando que o curso é muito denso e que não dediquei tempo suficiente para esta matéria. Consigo mapear todo o conteúdo dado, porém não o dominei (até o momento), e portanto gasto muito tempo fazendo as atividades.\n",
    "pontuação: 0.65"
   ]
  },
  {
   "cell_type": "markdown",
   "metadata": {},
   "source": [
    "### Escreva aqui"
   ]
  }
 ],
 "metadata": {
  "kernelspec": {
   "display_name": "Python 3",
   "language": "python",
   "name": "python3"
  },
  "language_info": {
   "codemirror_mode": {
    "name": "ipython",
    "version": 3
   },
   "file_extension": ".py",
   "mimetype": "text/x-python",
   "name": "python",
   "nbconvert_exporter": "python",
   "pygments_lexer": "ipython3",
   "version": "3.5.2"
  }
 },
 "nbformat": 4,
 "nbformat_minor": 2
}
